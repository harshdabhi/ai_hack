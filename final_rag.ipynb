{
 "cells": [
  {
   "cell_type": "code",
   "execution_count": 118,
   "id": "78b8e205",
   "metadata": {},
   "outputs": [],
   "source": [
    "from langchain.chains import RetrievalQA\n",
    "from langchain.document_loaders import TextLoader\n",
    "from langchain.embeddings import OpenAIEmbeddings\n",
    "from langchain.indexes import VectorstoreIndexCreator\n",
    "from langchain.llms import OpenAI,Ollama\n",
    "from langchain.text_splitter import CharacterTextSplitter\n",
    "from langchain.vectorstores import Chroma\n",
    "from langchain_core.prompts import ChatPromptTemplate\n",
    "from langchain.text_splitter import RecursiveCharacterTextSplitter\n",
    "\n"
   ]
  },
  {
   "cell_type": "code",
   "execution_count": 116,
   "id": "1033cbfb",
   "metadata": {},
   "outputs": [],
   "source": [
    "## Pdf reader this will load the data \n",
    "from langchain_community.document_loaders import PyPDFLoader\n",
    "loader=PyPDFLoader('./resourcev1.pdf')\n",
    "docs=loader.load()"
   ]
  },
  {
   "cell_type": "code",
   "execution_count": 117,
   "id": "01316073",
   "metadata": {},
   "outputs": [],
   "source": [
    "text_splitter=RecursiveCharacterTextSplitter(chunk_size=1000,chunk_overlap=200)\n",
    "documents=text_splitter.split_documents(docs)"
   ]
  },
  {
   "cell_type": "code",
   "execution_count": 81,
   "id": "9c832d3e",
   "metadata": {},
   "outputs": [],
   "source": [
    "## Vector Embedding And Vector Store\n",
    "from langchain_ollama import OllamaEmbeddings\n",
    "from langchain_community.vectorstores import Chroma\n",
    "db = Chroma.from_documents(documents[:],OllamaEmbeddings(\n",
    "    model=\"nomic-embed-text\",\n",
    "    base_url=\"http://host.docker.internal:11434\" \n",
    "))"
   ]
  },
  {
   "cell_type": "code",
   "execution_count": 121,
   "id": "a4173e5b",
   "metadata": {},
   "outputs": [
    {
     "name": "stdout",
     "output_type": "stream",
     "text": [
      "vectorstore created\n"
     ]
    }
   ],
   "source": [
    "if db:\n",
    "    print(\"vectorstore created\")\n",
    "else:\n",
    "    print(\"vectorstore not created\")"
   ]
  },
  {
   "cell_type": "code",
   "execution_count": 126,
   "id": "ed54085a",
   "metadata": {},
   "outputs": [],
   "source": [
    "\n",
    "\n",
    "prompt=ChatPromptTemplate.from_template(\n",
    "    \"\"\"\n",
    "question: {query}\n",
    "\n",
    "    ## Core Role\n",
    "\n",
    "You are an AI diagnostic assistant that extracts clinically relevant information from patient symptom descriptions using the pdf (Merck Manual), with web search fallback capability.\n",
    "\n",
    "## Primary Diagnostic Protocol\n",
    "\n",
    "### Input Processing\n",
    "\n",
    "**Extract from patient text:**\n",
    "\n",
    "- Symptom(s), duration, severity (1-10), modifying factors\n",
    "- Infer vital sign implications (e.g., \"can't catch breath\" → tachypnea)\n",
    "- Flag emotional urgency cues (\"worst pain ever\", \"never felt this before\")\n",
    "\n",
    "### Standard Response Format\n",
    "\n",
    "**1. Structured Symptom Summary**\n",
    "\n",
    "```\n",
    "Interpreted as: [Medical terminology translation]\n",
    "• Chief complaint: [Primary symptom]\n",
    "• Duration: [Timeframe]\n",
    "• Severity: [1-10 scale if provided]\n",
    "• Associated symptoms: [List]\n",
    "• Risk factors: [If mentioned]\n",
    "\n",
    "```\n",
    "\n",
    "**2. Likelihood Matrix**\n",
    "\n",
    "```\n",
    "│ Common (PCP-manageable)    │ Urgent (ER-needed)        │\n",
    "├───────────────────────────┼──────────────────────────┤\n",
    "│ 1. [Most likely diagnosis] │ A. [Emergency condition]  │\n",
    "│ 2. [Second likely]         │ B. [Second emergency]     │\n",
    "│ 3. [Third consideration]   │                          │\n",
    "\n",
    "```\n",
    "\n",
    "**3. Next-Step Decision Tree**\n",
    "\n",
    "```\n",
    "« If [mild features] → \"Try [conservative measure] for [timeframe]\"\n",
    "« If [red flags] → \"Seek care at [Urgent Care/ER] today\"\n",
    "« Either way → \"Recommend checking: [specific tests]\"\n",
    "\n",
    "```\n",
    "\n",
    "**4. Merck Manual Citations**\n",
    "\n",
    "- Reference: [Chapter/Section/Page numbers used]\n",
    "\n",
    "### Emergency Response Protocol\n",
    "\n",
    "🚨 **Immediate triggers**: Chest pain + cardiac risk, severe SOB, neurological symptoms, severe headache, active bleeding, suicidal ideation\n",
    "\n",
    "**Emergency template:**\n",
    "⚠️ URGENT: These symptoms require immediate medical evaluation\n",
    "→ Consider: Emergency services or immediate physician contact\n",
    "→ Concerning features: [List specific red flags]\n",
    "\n",
    "## Web Search Protocol\n",
    "\n",
    "*Activate when Merck Manual lacks sufficient coverage*\n",
    "\n",
    "### Search Activation Triggers\n",
    "\n",
    "- Symptoms not adequately covered in Merck Manual\n",
    "- Rare conditions suspected\n",
    "- Recent medical developments needed\n",
    "- Specific diagnostic criteria required\n",
    "\n",
    "### Safety Check Before Web Search\n",
    "\n",
    "**Assess if the gap is due to:**\n",
    "\n",
    "- (a) Patient's colloquial description needing reinterpretation?\n",
    "- (b) Very rare condition requiring specialist input?\n",
    "- (c) Newly recognized/evolving medical knowledge?\n",
    "\n",
    "**Actions:**\n",
    "\n",
    "- If (a): Re-analyze using medical synonyms: [suggest 3 variations]\n",
    "- If (b): \"Recommend [specialty] consultation for [rare condition class]\"\n",
    "- If (c): Proceed to web search with medical constraints\n",
    "\n",
    "### Web Search Parameters\n",
    "\n",
    "**Authorized Sources Only:**\n",
    "\n",
    "- Tier 1: .gov, .edu, WHO, CDC, NIH, FDA\n",
    "- Tier 2: Academic medical centers, professional societies\n",
    "- Tier 3: Peer-reviewed journals, Cochrane reviews\n",
    "\n",
    "**Search Strategy:**\n",
    "\n",
    "- Keywords: [Auto-generated from symptoms + \"diagnosis criteria\" + \"differential diagnosis\"]\n",
    "- Time filter: Last 5 years (unless historical context needed)\n",
    "- Exclude: Patient forums, commercial sites, non-medical sources\n",
    "\n",
    "### Web Search Output Format\n",
    "\n",
    "```\n",
    "📊 **Web-Retrieved Clinical Guidance** (Verify before clinical use)\n",
    "\n",
    "**Condition**: [Medical condition name]\n",
    "**Diagnostic Criteria**:\n",
    "• [Criterion 1]\n",
    "• [Criterion 2]\n",
    "• [Criterion 3]\n",
    "\n",
    "**Differential Considerations**: [List alternatives found]\n",
    "\n",
    "**Source Confidence**:\n",
    "□ Consensus (multiple agreeing authoritative sources)\n",
    "□ Emerging (single authoritative source)\n",
    "□ Conflicting data (note discrepancies)\n",
    "\n",
    "**Primary Source**: [Organization] | [URL] | [Date]\n",
    "**Additional Sources**: [List if multiple used]\n",
    "\n",
    "**Merck Manual Gap Explanation**: [Why this wasn't in offline manual - e.g., recent emergence, rare condition, updated criteria]\n",
    "\n",
    "**Integration with Standard Format**: [Apply same likelihood matrix and patient explanation structure using web-sourced information]\n",
    "\n",
    "```\n",
    "\n",
    "### Web Search Quality Controls\n",
    "\n",
    "- Maximum 3 web sources per query\n",
    "- Always include publication dates\n",
    "- Flag any conflicting information between sources\n",
    "- Maintain same safety protocols as primary diagnostic process\n",
    "- Include disclaimer: \"Web-sourced information requires clinical verification\"\n",
    "\n",
    "    \"\"\"\n",
    ")\n"
   ]
  },
  {
   "cell_type": "code",
   "execution_count": 127,
   "id": "2a56f301",
   "metadata": {},
   "outputs": [
    {
     "data": {
      "text/plain": [
       "VectorStoreRetriever(tags=['Chroma', 'OllamaEmbeddings'], vectorstore=<langchain_community.vectorstores.chroma.Chroma object at 0xffff680f2ef0>, search_kwargs={})"
      ]
     },
     "execution_count": 127,
     "metadata": {},
     "output_type": "execute_result"
    }
   ],
   "source": [
    "\"\"\"\n",
    "Retrievers: A retriever is an interface that returns documents given\n",
    " an unstructured query. It is more general than a vector store.\n",
    " A retriever does not need to be able to store documents, only to \n",
    " return (or retrieve) them. Vector stores can be used as the backbone\n",
    " of a retriever, but there are other types of retrievers as well. \n",
    " https://python.langchain.com/docs/modules/data_connection/retrievers/   \n",
    "\"\"\"\n",
    "\n",
    "retriever=db.as_retriever()\n",
    "retriever"
   ]
  },
  {
   "cell_type": "code",
   "execution_count": 128,
   "id": "27f7193b",
   "metadata": {},
   "outputs": [
    {
     "ename": "ValueError",
     "evalue": "Prompt must accept context as an input variable. Received prompt with input variables: ['query']",
     "output_type": "error",
     "traceback": [
      "\u001b[0;31m---------------------------------------------------------------------------\u001b[0m",
      "\u001b[0;31mValueError\u001b[0m                                Traceback (most recent call last)",
      "Cell \u001b[0;32mIn[128], line 7\u001b[0m\n\u001b[1;32m      2\u001b[0m \u001b[38;5;28;01mfrom\u001b[39;00m\u001b[38;5;250m \u001b[39m\u001b[38;5;21;01mlangchain_community\u001b[39;00m\u001b[38;5;21;01m.\u001b[39;00m\u001b[38;5;21;01mllms\u001b[39;00m\u001b[38;5;250m \u001b[39m\u001b[38;5;28;01mimport\u001b[39;00m Ollama\n\u001b[1;32m      5\u001b[0m llm\u001b[38;5;241m=\u001b[39mOllama(model\u001b[38;5;241m=\u001b[39m\u001b[38;5;124m\"\u001b[39m\u001b[38;5;124mGemma3:1b\u001b[39m\u001b[38;5;124m\"\u001b[39m,base_url\u001b[38;5;241m=\u001b[39m\u001b[38;5;124m\"\u001b[39m\u001b[38;5;124mhttp://host.docker.internal:11434\u001b[39m\u001b[38;5;124m\"\u001b[39m,temperature\u001b[38;5;241m=\u001b[39m\u001b[38;5;241m0.9\u001b[39m)\n\u001b[0;32m----> 7\u001b[0m documents_chain\u001b[38;5;241m=\u001b[39m\u001b[43mcreate_stuff_documents_chain\u001b[49m\u001b[43m(\u001b[49m\u001b[43mllm\u001b[49m\u001b[38;5;241;43m=\u001b[39;49m\u001b[43mllm\u001b[49m\u001b[43m,\u001b[49m\u001b[43mprompt\u001b[49m\u001b[38;5;241;43m=\u001b[39;49m\u001b[43mprompt\u001b[49m\u001b[43m)\u001b[49m\n\u001b[1;32m      9\u001b[0m \u001b[38;5;66;03m#qa_chain=RetrievalQA.from_chain_type(llm=llm,retriever=db.as_retriever(),chain_type_kwargs={\"prompt\":prompt})\u001b[39;00m\n",
      "File \u001b[0;32m~/anaconda3/envs/llm/lib/python3.10/site-packages/langchain/chains/combine_documents/stuff.py:79\u001b[0m, in \u001b[0;36mcreate_stuff_documents_chain\u001b[0;34m(llm, prompt, output_parser, document_prompt, document_separator, document_variable_name)\u001b[0m\n\u001b[1;32m     24\u001b[0m \u001b[38;5;28;01mdef\u001b[39;00m\u001b[38;5;250m \u001b[39m\u001b[38;5;21mcreate_stuff_documents_chain\u001b[39m(\n\u001b[1;32m     25\u001b[0m     llm: LanguageModelLike,\n\u001b[1;32m     26\u001b[0m     prompt: BasePromptTemplate,\n\u001b[0;32m   (...)\u001b[0m\n\u001b[1;32m     31\u001b[0m     document_variable_name: \u001b[38;5;28mstr\u001b[39m \u001b[38;5;241m=\u001b[39m DOCUMENTS_KEY,\n\u001b[1;32m     32\u001b[0m ) \u001b[38;5;241m-\u001b[39m\u001b[38;5;241m>\u001b[39m Runnable[\u001b[38;5;28mdict\u001b[39m[\u001b[38;5;28mstr\u001b[39m, Any], Any]:\n\u001b[1;32m     33\u001b[0m \u001b[38;5;250m    \u001b[39m\u001b[38;5;124;03m\"\"\"Create a chain for passing a list of Documents to a model.\u001b[39;00m\n\u001b[1;32m     34\u001b[0m \n\u001b[1;32m     35\u001b[0m \u001b[38;5;124;03m    Args:\u001b[39;00m\n\u001b[0;32m   (...)\u001b[0m\n\u001b[1;32m     76\u001b[0m \u001b[38;5;124;03m            chain.invoke({\"context\": docs})\u001b[39;00m\n\u001b[1;32m     77\u001b[0m \u001b[38;5;124;03m    \"\"\"\u001b[39;00m  \u001b[38;5;66;03m# noqa: E501\u001b[39;00m\n\u001b[0;32m---> 79\u001b[0m     \u001b[43m_validate_prompt\u001b[49m\u001b[43m(\u001b[49m\u001b[43mprompt\u001b[49m\u001b[43m,\u001b[49m\u001b[43m \u001b[49m\u001b[43mdocument_variable_name\u001b[49m\u001b[43m)\u001b[49m\n\u001b[1;32m     80\u001b[0m     _document_prompt \u001b[38;5;241m=\u001b[39m document_prompt \u001b[38;5;129;01mor\u001b[39;00m DEFAULT_DOCUMENT_PROMPT\n\u001b[1;32m     81\u001b[0m     _output_parser \u001b[38;5;241m=\u001b[39m output_parser \u001b[38;5;129;01mor\u001b[39;00m StrOutputParser()\n",
      "File \u001b[0;32m~/anaconda3/envs/llm/lib/python3.10/site-packages/langchain/chains/combine_documents/base.py:27\u001b[0m, in \u001b[0;36m_validate_prompt\u001b[0;34m(prompt, document_variable_name)\u001b[0m\n\u001b[1;32m     25\u001b[0m \u001b[38;5;28;01mdef\u001b[39;00m\u001b[38;5;250m \u001b[39m\u001b[38;5;21m_validate_prompt\u001b[39m(prompt: BasePromptTemplate, document_variable_name: \u001b[38;5;28mstr\u001b[39m) \u001b[38;5;241m-\u001b[39m\u001b[38;5;241m>\u001b[39m \u001b[38;5;28;01mNone\u001b[39;00m:\n\u001b[1;32m     26\u001b[0m     \u001b[38;5;28;01mif\u001b[39;00m document_variable_name \u001b[38;5;129;01mnot\u001b[39;00m \u001b[38;5;129;01min\u001b[39;00m prompt\u001b[38;5;241m.\u001b[39minput_variables:\n\u001b[0;32m---> 27\u001b[0m         \u001b[38;5;28;01mraise\u001b[39;00m \u001b[38;5;167;01mValueError\u001b[39;00m(\n\u001b[1;32m     28\u001b[0m             \u001b[38;5;124mf\u001b[39m\u001b[38;5;124m\"\u001b[39m\u001b[38;5;124mPrompt must accept \u001b[39m\u001b[38;5;132;01m{\u001b[39;00mdocument_variable_name\u001b[38;5;132;01m}\u001b[39;00m\u001b[38;5;124m as an input variable. \u001b[39m\u001b[38;5;124m\"\u001b[39m\n\u001b[1;32m     29\u001b[0m             \u001b[38;5;124mf\u001b[39m\u001b[38;5;124m\"\u001b[39m\u001b[38;5;124mReceived prompt with input variables: \u001b[39m\u001b[38;5;132;01m{\u001b[39;00mprompt\u001b[38;5;241m.\u001b[39minput_variables\u001b[38;5;132;01m}\u001b[39;00m\u001b[38;5;124m\"\u001b[39m\n\u001b[1;32m     30\u001b[0m         )\n",
      "\u001b[0;31mValueError\u001b[0m: Prompt must accept context as an input variable. Received prompt with input variables: ['query']"
     ]
    }
   ],
   "source": [
    "from langchain.chains.combine_documents import create_stuff_documents_chain\n",
    "from langchain_community.llms import Ollama\n",
    "\n",
    "\n",
    "llm=Ollama(model=\"Gemma3:1b\",base_url=\"http://host.docker.internal:11434\",temperature=0.9)\n",
    "\n",
    "documents_chain=create_stuff_documents_chain(llm=llm,prompt=prompt)\n",
    "\n",
    "#qa_chain=RetrievalQA.from_chain_type(llm=llm,retriever=db.as_retriever(),chain_type_kwargs={\"prompt\":prompt})\n",
    "\n",
    "\n"
   ]
  },
  {
   "cell_type": "code",
   "execution_count": 129,
   "id": "b45a61cd",
   "metadata": {},
   "outputs": [],
   "source": [
    "\"\"\"\n",
    "Retrieval chain:This chain takes in a user inquiry, which is then\n",
    "passed to the retriever to fetch relevant documents. Those documents \n",
    "(and original inputs) are then passed to an LLM to generate a response\n",
    "https://python.langchain.com/docs/modules/chains/\n",
    "\"\"\"\n",
    "from langchain.chains import create_retrieval_chain\n",
    "retrieval_chain=create_retrieval_chain(retriever,documents_chain)"
   ]
  },
  {
   "cell_type": "code",
   "execution_count": 130,
   "id": "0883c9f7",
   "metadata": {},
   "outputs": [
    {
     "ename": "TypeError",
     "evalue": "'RunnableBinding' object is not callable",
     "output_type": "error",
     "traceback": [
      "\u001b[0;31m---------------------------------------------------------------------------\u001b[0m",
      "\u001b[0;31mTypeError\u001b[0m                                 Traceback (most recent call last)",
      "Cell \u001b[0;32mIn[130], line 1\u001b[0m\n\u001b[0;32m----> 1\u001b[0m \u001b[43mretrieval_chain\u001b[49m\u001b[43m(\u001b[49m\u001b[43m{\u001b[49m\u001b[38;5;124;43m\"\u001b[39;49m\u001b[38;5;124;43mquery\u001b[39;49m\u001b[38;5;124;43m\"\u001b[39;49m\u001b[43m:\u001b[49m\u001b[38;5;124;43m\"\u001b[39;49m\u001b[38;5;124;43mi have chest pain\u001b[39;49m\u001b[38;5;124;43m\"\u001b[39;49m\u001b[43m}\u001b[49m\u001b[43m)\u001b[49m\n",
      "\u001b[0;31mTypeError\u001b[0m: 'RunnableBinding' object is not callable"
     ]
    }
   ],
   "source": [
    "retrieval_chain({\"query\":\"i have chest pain\"})"
   ]
  },
  {
   "cell_type": "markdown",
   "id": "30c25fcd",
   "metadata": {},
   "source": [
    "## Part 2\n"
   ]
  },
  {
   "cell_type": "code",
   "execution_count": null,
   "id": "3d17351c",
   "metadata": {},
   "outputs": [
    {
     "name": "stdout",
     "output_type": "stream",
     "text": [
      "Note: you may need to restart the kernel to use updated packages.\n"
     ]
    }
   ],
   "source": [
    "%pip install -qU langchain-tavily"
   ]
  },
  {
   "cell_type": "code",
   "execution_count": null,
   "id": "beb34512",
   "metadata": {},
   "outputs": [],
   "source": []
  },
  {
   "cell_type": "code",
   "execution_count": 90,
   "id": "9ad7beb4",
   "metadata": {},
   "outputs": [],
   "source": [
    "import os\n",
    "os.environ[\"TAVILY_API_KEY\"]=\"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\""
   ]
  },
  {
   "cell_type": "code",
   "execution_count": 91,
   "id": "d5990c99",
   "metadata": {},
   "outputs": [],
   "source": [
    "import getpass\n",
    "import os\n",
    "\n",
    "if not os.environ.get(\"TAVILY_API_KEY\"):\n",
    "    os.environ[\"TAVILY_API_KEY\"] = getpass.getpass(\"Tavily API key:\\n\")"
   ]
  },
  {
   "cell_type": "code",
   "execution_count": 92,
   "id": "ae788c98",
   "metadata": {},
   "outputs": [],
   "source": [
    "from langchain_tavily import TavilySearch\n",
    "\n",
    "tool = TavilySearch(\n",
    "    max_results=5,\n",
    "    topic=\"general\",\n",
    "    # include_answer=False,\n",
    "    # include_raw_content=False,\n",
    "    # include_images=False,\n",
    "    # include_image_descriptions=False,\n",
    "    # search_depth=\"basic\",\n",
    "    # time_range=\"day\",\n",
    "    # include_domains=None,\n",
    "    # exclude_domains=None\n",
    ")"
   ]
  },
  {
   "cell_type": "code",
   "execution_count": 93,
   "id": "819492c8",
   "metadata": {},
   "outputs": [
    {
     "data": {
      "text/plain": [
       "{'query': 'i have chest pain',\n",
       " 'follow_up_questions': None,\n",
       " 'answer': None,\n",
       " 'images': [],\n",
       " 'results': [{'title': 'Chest pain: 27 causes, symptoms, and when to see a doctor',\n",
       "   'url': 'https://www.medicalnewstoday.com/articles/321650',\n",
       "   'content': 'Chest pain can stem from a heart problem, but other possible causes include a lung infection, muscle strain, a rib injury, or a panic attack. Some of these are serious conditions and need medical',\n",
       "   'score': 0.67063034,\n",
       "   'raw_content': None},\n",
       "  {'title': 'Chest Pain: What It Feels Like, Causes & Treatment - Cleveland Clinic',\n",
       "   'url': 'https://my.clevelandclinic.org/health/symptoms/21209-chest-pain',\n",
       "   'content': 'Giving Careers Search ClevelandClinic.org Find A Doctor Locations & Directions Patients & Visitors Health Library Institutes & Departments Appointments Home/ Health Library/ Symptoms/ Chest Pain Advertisement Advertisement Chest Pain Chest pain has many causes, like issues in your heart, lungs or digestive system. Some causes are life-threatening while others aren’t. Chest pain is a pain or discomfort in any area of your chest. Possible Causes Chest pain can come from heart, lung, digestive or other issues. Chest pain treatment depends on the cause of the pain.',\n",
       "   'score': 0.6426349,\n",
       "   'raw_content': None},\n",
       "  {'title': 'Chest pain - Symptoms and causes - Mayo Clinic',\n",
       "   'url': 'https://www.mayoclinic.org/diseases-conditions/chest-pain/symptoms-causes/syc-20370838',\n",
       "   'content': \"Press space key to fill the input with the suggestion or enter key to search with the suggestion.Search by keyword or phraseSearch Patient Care & Health Information Diseases & Conditions Chest pain Request an Appointment Symptoms & causes Diagnosis & treatment Doctors & departments Care at Mayo Clinic Print Overview Chest pain is pain or discomfort in the area between the neck and belly. Chest pain may be sharp or dull. Many different things can cause chest pain. So it's important to get medical help for an accurate diagnosis. Heart and blood vessel causes Some heart-related causes of chest pain are: Angina.\",\n",
       "   'score': 0.5775198,\n",
       "   'raw_content': None},\n",
       "  {'title': 'What Are the Causes of Chest Pain and When Do I Need Help? - Healthline',\n",
       "   'url': 'https://www.healthline.com/health/causes-of-chest-pain',\n",
       "   'content': 'What Are the Causes of Chest Pain and When Do I Need Help? Subscribe 30 Causes for Chest Pain and When to Seek Help Medically reviewed by Debra Sullivan, Ph.D., MSN, R.N., CNE, COI — Written by James Roland — Updated on July 29, 2019 Heart-related Respiratory-related Digestion-related Mental health-related Other causes Next steps Overview Chest pain can be a sign of a heart attack or other cardiac condition, but it can also be a symptom of problems related to: respiration digestion bones and muscles other aspects of physical and mental health Chest pain should always be taken seriously, even if it’s mild or you don’t suspect a life-threatening condition. Learning to recognize when chest pain should be treated as a medical emergency and when it should be reported to your doctor at your next appointment could help you prevent major medical complications down the road. If you ever have concern about the cause of chest pain, call your local emergency services.',\n",
       "   'score': 0.49758363,\n",
       "   'raw_content': None},\n",
       "  {'title': \"3 Signs Your Chest Pain Isn't a Heart Attack - Cleveland Clinic Health ...\",\n",
       "   'url': 'https://health.clevelandclinic.org/3-types-of-chest-pain-that-wont-kill-you',\n",
       "   'content': 'But just how do you know when that chest pain you feel is actually a heart attack and not something else entirely? But those who do experience pain during a heart attack can feel it anywhere in their chest, typically across an area roughly the size of their fist or larger. Sometimes, chest pain doesn’t signal a heart attack. If you have a piercing pain in your chest that gets worse when you move around or take deep breaths, it’s not likely a heart attack, but it could be a lung-related issue caused by a number of conditions, including: ##### Chest Pain: Is It Heart Attack or ‘Nutcracker Esophagus’? ##### Is That Pain in Your Chest Heartburn or a Heart Attack?',\n",
       "   'score': 0.4703723,\n",
       "   'raw_content': None}],\n",
       " 'response_time': 1.39}"
      ]
     },
     "execution_count": 93,
     "metadata": {},
     "output_type": "execute_result"
    }
   ],
   "source": [
    "tool.invoke({\"query\": \"i have chest pain\"})"
   ]
  },
  {
   "cell_type": "code",
   "execution_count": 94,
   "id": "4547ab00",
   "metadata": {},
   "outputs": [
    {
     "name": "stdout",
     "output_type": "stream",
     "text": [
      "{\"query\": \"euro 2024 host nation\", \"follow_up_questions\": null, \"answer\": null, \"images\": [], \"results\": [{\"title\": \"UEFA Euro 2024 - Wikipedia\", \"url\": \"https://en.wikipedia.org/wiki/UEFA_Euro_2024\", \"content\": \"It was the third time that European Championship matches were played on German territory, and the second time in reunified Germany, as West Germany hosted the 1988 tournament, and four ma\n"
     ]
    }
   ],
   "source": [
    "# This is usually generated by a model, but we'll create a tool call directly for demo purposes.\n",
    "model_generated_tool_call = {\n",
    "    \"args\": {\"query\": \"euro 2024 host nation\"},\n",
    "    \"id\": \"1\",\n",
    "    \"name\": \"tavily\",\n",
    "    \"type\": \"tool_call\",\n",
    "}\n",
    "tool_msg = tool.invoke(model_generated_tool_call)\n",
    "\n",
    "# The content is a JSON string of results\n",
    "print(tool_msg.content[:400])"
   ]
  },
  {
   "cell_type": "markdown",
   "id": "3db36388",
   "metadata": {},
   "source": [
    "## Part 3"
   ]
  },
  {
   "cell_type": "code",
   "execution_count": 113,
   "id": "8854e7fb",
   "metadata": {},
   "outputs": [
    {
     "name": "stdout",
     "output_type": "stream",
     "text": [
      "Answer from Retrieval QA:\n",
      "I understand you’re asking about the possible causes of sharp chest pain and shortness of breath, given the context provided.\n",
      "\n",
      "Based on the information, several possibilities could be considered:\n",
      "\n",
      "*   **Cardiac Issues:** The context mentions pericarditis and the possibility of similar chest pain to myocardial inflammation or ischemia. It also points out that pericarditis can be triggered by tamponade.\n",
      "*   **Pulmonary Issues:** The mention of dyspnea (shortness of breath) suggests a potential issue with the lungs.\n",
      "*   **Gastrointestinal Issues:** The context indicates that painful stimuli from thoracic organs can be referred to the upper extremities, which could be related to digestive discomfort.\n",
      "*   **Neurological Issues:** The description of “discomfort” and the potential for stabbing pain could be related to neurological problems.\n",
      "\n",
      "**Disclaimer:** *I am an AI Chatbot and not a medical professional. This information is for general knowledge and informational purposes only, and does not constitute medical advice. It is essential to consult with a qualified healthcare professional for any health concerns or before making any decisions related to your health or treatment.*\n",
      "\n",
      "**I cannot provide a definitive diagnosis based on the information provided.**\n",
      "\n",
      "Would you like me to elaborate on any of these possibilities, or perhaps offer some general information about how to seek medical attention for this type of discomfort?\n"
     ]
    }
   ],
   "source": [
    "# === Step 3: Wrap Tavily in a Tool ===\n",
    "from langchain.llms import Ollama\n",
    "from langchain.agents import initialize_agent, AgentType\n",
    "from langchain.chains import RetrievalQA\n",
    "from langchain.tools.retriever import create_retriever_tool\n",
    "from langchain_tavily import TavilySearch\n",
    "from langchain.tools import Tool\n",
    "tavily_tool = Tool(\n",
    "    name=\"tavily_search\",\n",
    "    description=\"Search the web for general information using Tavily.\",\n",
    "    func=TavilySearch(max_results=1, topic=\"general\")\n",
    ")\n",
    "\n",
    "from langchain.tools.retriever import create_retriever_tool\n",
    "retriever_tool=create_retriever_tool(retriever,\"langsmith_search\",\n",
    "                      \"Search for information about LangSmith. For any questions about LangSmith, you must use this tool!\")\n",
    "\n",
    "# === Step 4: Create Tool List ===\n",
    "tools = [retriever_tool, tavily_tool]\n",
    "\n",
    "# from langchain.agents import create_openai_tools_agent\n",
    "# agent=create_openai_tools_agent(llm,tools,prompt)\n",
    "\n",
    "# === Step 5: Initialize Agent ===\n",
    "agent = initialize_agent(\n",
    "    tools=tools,\n",
    "    llm=llm,\n",
    "    agent=AgentType.ZERO_SHOT_REACT_DESCRIPTION,\n",
    "    verbose=True,\n",
    "    prompt=prompt\n",
    "    \n",
    ")\n",
    "\n",
    "# === Step 6: RetrievalQA Chain (used before fallback) ===\n",
    "retrieval_chain = RetrievalQA.from_chain_type(llm=llm, retriever=retriever)\n",
    "\n",
    "# === Step 7: Hybrid Logic ===\n",
    "def hybrid_query(input_text: str):\n",
    "    response = retrieval_chain.invoke({\"query\": input_text})\n",
    "    answer = response.get(\"result\", \"\").strip()\n",
    "\n",
    "    if not answer or \"I don't know\" in answer or \"No relevant\" in answer:\n",
    "        print(\"Fallback to Tavily via agent...\")\n",
    "        return agent.run(input_text)\n",
    "    else:\n",
    "        print(\"Answer from Retrieval QA:\")\n",
    "        return answer\n",
    "\n",
    "# === Example Usage ===\n",
    "result = hybrid_query(\"I have very sharp pain in left side of my chest, and shortness of breath\")\n",
    "print(result)"
   ]
  },
  {
   "cell_type": "code",
   "execution_count": null,
   "id": "e9e5ca99",
   "metadata": {},
   "outputs": [
    {
     "ename": "NameError",
     "evalue": "name 'retriever_tool' is not defined",
     "output_type": "error",
     "traceback": [
      "\u001b[0;31m---------------------------------------------------------------------------\u001b[0m\n",
      "\u001b[0;31mNameError\u001b[0m                                 Traceback (most recent call last)\n",
      "Cell \u001b[0;32mIn[1], line 2\u001b[0m\n",
      "\u001b[1;32m      1\u001b[0m \u001b[38;5;66;03m### Agents\u001b[39;00m\n",
      "\u001b[0;32m----> 2\u001b[0m tools\u001b[38;5;241m=\u001b[39m[\u001b[43mretriever_tool\u001b[49m,tool]\n",
      "\u001b[1;32m      3\u001b[0m \u001b[38;5;28;01mfrom\u001b[39;00m\u001b[38;5;250m \u001b[39m\u001b[38;5;21;01mlangchain\u001b[39;00m\u001b[38;5;21;01m.\u001b[39;00m\u001b[38;5;21;01magents\u001b[39;00m\u001b[38;5;250m \u001b[39m\u001b[38;5;28;01mimport\u001b[39;00m create_openai_tools_agent\n",
      "\u001b[1;32m      4\u001b[0m agent\u001b[38;5;241m=\u001b[39mcreate_openai_tools_agent(llm,tools,prompt)\n",
      "\n",
      "\u001b[0;31mNameError\u001b[0m: name 'retriever_tool' is not defined"
     ]
    }
   ],
   "source": []
  },
  {
   "cell_type": "code",
   "execution_count": null,
   "id": "80210cb1",
   "metadata": {},
   "outputs": [
    {
     "ename": "NameError",
     "evalue": "name 'retriever_tool' is not defined",
     "output_type": "error",
     "traceback": [
      "\u001b[0;31m---------------------------------------------------------------------------\u001b[0m\n",
      "\u001b[0;31mNameError\u001b[0m                                 Traceback (most recent call last)\n",
      "Cell \u001b[0;32mIn[1], line 2\u001b[0m\n",
      "\u001b[1;32m      1\u001b[0m \u001b[38;5;66;03m### Agents\u001b[39;00m\n",
      "\u001b[0;32m----> 2\u001b[0m tools\u001b[38;5;241m=\u001b[39m[\u001b[43mretriever_tool\u001b[49m,tool]\n",
      "\u001b[1;32m      3\u001b[0m \u001b[38;5;28;01mfrom\u001b[39;00m\u001b[38;5;250m \u001b[39m\u001b[38;5;21;01mlangchain\u001b[39;00m\u001b[38;5;21;01m.\u001b[39;00m\u001b[38;5;21;01magents\u001b[39;00m\u001b[38;5;250m \u001b[39m\u001b[38;5;28;01mimport\u001b[39;00m create_openai_tools_agent\n",
      "\u001b[1;32m      4\u001b[0m agent\u001b[38;5;241m=\u001b[39mcreate_openai_tools_agent(llm,tools,prompt)\n",
      "\n",
      "\u001b[0;31mNameError\u001b[0m: name 'retriever_tool' is not defined"
     ]
    }
   ],
   "source": []
  },
  {
   "cell_type": "code",
   "execution_count": null,
   "id": "5a41d76a",
   "metadata": {},
   "outputs": [
    {
     "ename": "NameError",
     "evalue": "name 'retriever_tool' is not defined",
     "output_type": "error",
     "traceback": [
      "\u001b[0;31m---------------------------------------------------------------------------\u001b[0m\n",
      "\u001b[0;31mNameError\u001b[0m                                 Traceback (most recent call last)\n",
      "Cell \u001b[0;32mIn[1], line 2\u001b[0m\n",
      "\u001b[1;32m      1\u001b[0m \u001b[38;5;66;03m### Agents\u001b[39;00m\n",
      "\u001b[0;32m----> 2\u001b[0m tools\u001b[38;5;241m=\u001b[39m[\u001b[43mretriever_tool\u001b[49m,tool]\n",
      "\u001b[1;32m      3\u001b[0m \u001b[38;5;28;01mfrom\u001b[39;00m\u001b[38;5;250m \u001b[39m\u001b[38;5;21;01mlangchain\u001b[39;00m\u001b[38;5;21;01m.\u001b[39;00m\u001b[38;5;21;01magents\u001b[39;00m\u001b[38;5;250m \u001b[39m\u001b[38;5;28;01mimport\u001b[39;00m create_openai_tools_agent\n",
      "\u001b[1;32m      4\u001b[0m agent\u001b[38;5;241m=\u001b[39mcreate_openai_tools_agent(llm,tools,prompt)\n",
      "\n",
      "\u001b[0;31mNameError\u001b[0m: name 'retriever_tool' is not defined"
     ]
    }
   ],
   "source": []
  },
  {
   "cell_type": "code",
   "execution_count": null,
   "id": "74c204f6",
   "metadata": {},
   "outputs": [
    {
     "ename": "NameError",
     "evalue": "name 'retriever_tool' is not defined",
     "output_type": "error",
     "traceback": [
      "\u001b[0;31m---------------------------------------------------------------------------\u001b[0m\n",
      "\u001b[0;31mNameError\u001b[0m                                 Traceback (most recent call last)\n",
      "Cell \u001b[0;32mIn[1], line 2\u001b[0m\n",
      "\u001b[1;32m      1\u001b[0m \u001b[38;5;66;03m### Agents\u001b[39;00m\n",
      "\u001b[0;32m----> 2\u001b[0m tools\u001b[38;5;241m=\u001b[39m[\u001b[43mretriever_tool\u001b[49m,tool]\n",
      "\u001b[1;32m      3\u001b[0m \u001b[38;5;28;01mfrom\u001b[39;00m\u001b[38;5;250m \u001b[39m\u001b[38;5;21;01mlangchain\u001b[39;00m\u001b[38;5;21;01m.\u001b[39;00m\u001b[38;5;21;01magents\u001b[39;00m\u001b[38;5;250m \u001b[39m\u001b[38;5;28;01mimport\u001b[39;00m create_openai_tools_agent\n",
      "\u001b[1;32m      4\u001b[0m agent\u001b[38;5;241m=\u001b[39mcreate_openai_tools_agent(llm,tools,prompt)\n",
      "\n",
      "\u001b[0;31mNameError\u001b[0m: name 'retriever_tool' is not defined"
     ]
    }
   ],
   "source": []
  },
  {
   "cell_type": "code",
   "execution_count": null,
   "id": "4d2d9ee2",
   "metadata": {},
   "outputs": [
    {
     "ename": "NameError",
     "evalue": "name 'retriever_tool' is not defined",
     "output_type": "error",
     "traceback": [
      "\u001b[0;31m---------------------------------------------------------------------------\u001b[0m\n",
      "\u001b[0;31mNameError\u001b[0m                                 Traceback (most recent call last)\n",
      "Cell \u001b[0;32mIn[1], line 2\u001b[0m\n",
      "\u001b[1;32m      1\u001b[0m \u001b[38;5;66;03m### Agents\u001b[39;00m\n",
      "\u001b[0;32m----> 2\u001b[0m tools\u001b[38;5;241m=\u001b[39m[\u001b[43mretriever_tool\u001b[49m,tool]\n",
      "\u001b[1;32m      3\u001b[0m \u001b[38;5;28;01mfrom\u001b[39;00m\u001b[38;5;250m \u001b[39m\u001b[38;5;21;01mlangchain\u001b[39;00m\u001b[38;5;21;01m.\u001b[39;00m\u001b[38;5;21;01magents\u001b[39;00m\u001b[38;5;250m \u001b[39m\u001b[38;5;28;01mimport\u001b[39;00m create_openai_tools_agent\n",
      "\u001b[1;32m      4\u001b[0m agent\u001b[38;5;241m=\u001b[39mcreate_openai_tools_agent(llm,tools,prompt)\n",
      "\n",
      "\u001b[0;31mNameError\u001b[0m: name 'retriever_tool' is not defined"
     ]
    }
   ],
   "source": []
  },
  {
   "cell_type": "code",
   "execution_count": null,
   "id": "502d15ea",
   "metadata": {},
   "outputs": [
    {
     "ename": "NameError",
     "evalue": "name 'retriever_tool' is not defined",
     "output_type": "error",
     "traceback": [
      "\u001b[0;31m---------------------------------------------------------------------------\u001b[0m\n",
      "\u001b[0;31mNameError\u001b[0m                                 Traceback (most recent call last)\n",
      "Cell \u001b[0;32mIn[1], line 2\u001b[0m\n",
      "\u001b[1;32m      1\u001b[0m \u001b[38;5;66;03m### Agents\u001b[39;00m\n",
      "\u001b[0;32m----> 2\u001b[0m tools\u001b[38;5;241m=\u001b[39m[\u001b[43mretriever_tool\u001b[49m,tool]\n",
      "\u001b[1;32m      3\u001b[0m \u001b[38;5;28;01mfrom\u001b[39;00m\u001b[38;5;250m \u001b[39m\u001b[38;5;21;01mlangchain\u001b[39;00m\u001b[38;5;21;01m.\u001b[39;00m\u001b[38;5;21;01magents\u001b[39;00m\u001b[38;5;250m \u001b[39m\u001b[38;5;28;01mimport\u001b[39;00m create_openai_tools_agent\n",
      "\u001b[1;32m      4\u001b[0m agent\u001b[38;5;241m=\u001b[39mcreate_openai_tools_agent(llm,tools,prompt)\n",
      "\n",
      "\u001b[0;31mNameError\u001b[0m: name 'retriever_tool' is not defined"
     ]
    }
   ],
   "source": []
  },
  {
   "cell_type": "code",
   "execution_count": null,
   "id": "efd56a1e",
   "metadata": {},
   "outputs": [],
   "source": []
  }
 ],
 "metadata": {
  "kernelspec": {
   "display_name": "llm",
   "language": "python",
   "name": "python3"
  },
  "language_info": {
   "codemirror_mode": {
    "name": "ipython",
    "version": 3
   },
   "file_extension": ".py",
   "mimetype": "text/x-python",
   "name": "python",
   "nbconvert_exporter": "python",
   "pygments_lexer": "ipython3",
   "version": "3.10.16"
  }
 },
 "nbformat": 4,
 "nbformat_minor": 5
}
